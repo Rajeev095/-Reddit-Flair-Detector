{
 "cells": [
  {
   "cell_type": "code",
   "execution_count": 1,
   "metadata": {},
   "outputs": [],
   "source": [
    "# import packages\n",
    "\n",
    "import praw\n",
    "import pickle\n",
    "# import pymongo\n",
    "import numpy as np\n",
    "import pandas as pd\n",
    "import datetime as dt\n",
    "import matplotlib.pyplot as plt\n",
    "from collections import defaultdict \n",
    "from nltk.corpus import stopwords\n",
    "from nltk.tokenize import word_tokenize\n",
    "from sklearn.model_selection import train_test_split\n",
    "from sklearn.pipeline import Pipeline\n",
    "from sklearn.feature_extraction.text import CountVectorizer, TfidfVectorizer\n",
    "from sklearn.feature_extraction.text import TfidfTransformer\n",
    "from sklearn.metrics import accuracy_score, confusion_matrix\n",
    "from sklearn.metrics import classification_report\n",
    "from sklearn.linear_model import LogisticRegression\n",
    "from sklearn.linear_model import SGDClassifier\n",
    "from sklearn.tree import DecisionTreeClassifier \n",
    "from sklearn.ensemble import RandomForestClassifier"
   ]
  },
  {
   "cell_type": "markdown",
   "metadata": {},
   "source": [
    "# DATA COLLECTION"
   ]
  },
  {
   "cell_type": "markdown",
   "metadata": {},
   "source": [
    "For the data acquisition, I researched about available methods for web scraping - including __Selenium__ and __BeautifulSoup__.\n",
    "There are a number of Reddit datasets available on Bigquery and Kaggle as well.\n",
    "\n",
    "I then came across __PRAW: The Python Reddit API Wrapper__\n",
    "\n",
    "For the purpose of creating my own dataset instead of the readily available alternatives, I went ahead with PRAW."
   ]
  },
  {
   "cell_type": "markdown",
   "metadata": {},
   "source": [
    "## Creating a read-only Reddit instance"
   ]
  },
  {
   "cell_type": "code",
   "execution_count": 2,
   "metadata": {},
   "outputs": [
    {
     "name": "stdout",
     "output_type": "stream",
     "text": [
      "True\n"
     ]
    }
   ],
   "source": [
    "# client_id='PERSONAL_USE_SCRIPT_14_CHARS', \n",
    "# client_secret='SECRET_KEY_27_CHARS ', \n",
    "# user_agent='YOUR_APP_NAME'\n",
    "reddit = praw.Reddit(client_id='R30fcxAZLJ7Wyw',\n",
    "                     client_secret='8Zf87krHYa_zXRXPWEF8hK2Twfs',\n",
    "                     user_agent='project1'\n",
    "                    )\n",
    "print(reddit.read_only)"
   ]
  },
  {
   "cell_type": "markdown",
   "metadata": {},
   "source": [
    "## Accessing the India Subreddit"
   ]
  },
  {
   "cell_type": "code",
   "execution_count": 3,
   "metadata": {},
   "outputs": [
    {
     "name": "stdout",
     "output_type": "stream",
     "text": [
      "### We are looking for additional moderators. If you believe you can help, apply [via modmail](https://www.reddit.com/message/compose?to=%2Fr%2Findia)\n",
      "\n",
      "###[r/India Rules](https://www.reddit.com/r/India/wiki/rules)\n",
      "\n",
      "###[PushBullet Notifications](https://www.pushbullet.com/channel?tag=redditindia)\n",
      "\n",
      "###[r/India Discord Server](https://discord.gg/6V29X7f)\n",
      "\n",
      "###[Scheduled threads](https://www.reddit.com/r/india/comments/b27sx9/scheduled_threads/)\n",
      "\n",
      "###[r/India twitter](https://twitter.com/redditindia)\n",
      "\n",
      "#Filters & Hot Topics:\n",
      "\n",
      "> **Enable**[All](http://www.reddit.com/r/india/#aa)[Non-Political](http://yy.reddit.com/r/india/#yy)[Politics](http://xx.reddit.com/r/india/#xx)[\\[R\\]eddiquette](http://zz.reddit.com/r/india/#zz)[AMA](https://am.reddit.com/r/india/search?q=flair%3AAMA&sort=new&restrict_sr=on/#am)[Scheduled](https://sd.reddit.com/r/india/search?q=flair%3AScheduled+-title%3ARandom&restrict_sr=on&sort=new&t=all/#sd)[Science & Tech.](http://bb.reddit.com/r/india/#bb)[Self Posts](http://ss.reddit.com/r/india/#ss)\n",
      "\n",
      "> **Disable**[Hide Politics and Policy](http://hp.reddit.com/r/india/#yy)[Hide AdBlocker Unfriendly](http://ab.reddit.com/r/india/#ab)  \n",
      "  \n",
      "\n",
      "\n",
      "#Welcome to \\/r/India\n",
      "1. [What is Reddit?](https://www.reddit.com/wiki/reddit_101)\n",
      "2. [Reddit India Wiki](http://www.reddit.com/r/india/wiki/index)\n",
      "3. [Follow us on Twitter - @RedditIndia](https://twitter.com/RedditIndia)\n",
      "4. [All India related sub-reddits](http://www.reddit.com/r/india/wiki/related_subreddits)\n",
      "\n",
      "#Requests\n",
      "1. Please see [this](http://www.reddit.com/r/india/wiki/requests) for further details.\n",
      "2. Do read the **[Reddiquette](http://www.reddit.com/help/reddiquette)** and refrain from personal/vindictive attacks while commenting.\n",
      "3. Please provide **[translations](http://www.reddit.com/r/india/comments/eu3nb/a_suggestion_for_rindia/c1ayhxr)** if comment in languages other than English.\n",
      "4. Please use spoiler tags where needed. `[](#s \"Modi\")` becomes [](#s \"PM\").\n",
      "\n",
      "#Community\n",
      "\n",
      "1. [Travel Information](http://www.reddit.com/r/india/wiki/travel_information)\n",
      "2. [State of the Week Threads](http://www.reddit.com/r/india/wiki/state_of_the_week)\n",
      "3. [IRC](http://webchat.freenode.net/?channels=##rindia)\n",
      "4. [Special mentions](http://www.reddit.com/r/india/wiki/contributors)\n",
      "5. [Useful Posts by Redditors](https://www.reddit.com/r/india/wiki/useful_posts)\n",
      "\n",
      "\n",
      ">####Avoid duplicates: Check /r/india/new\n"
     ]
    }
   ],
   "source": [
    "india_subreddit = reddit.subreddit('india')\n",
    "print(india_subreddit.description)"
   ]
  },
  {
   "cell_type": "markdown",
   "metadata": {},
   "source": [
    "## Finding top 10 hot posts of the subreddit"
   ]
  },
  {
   "cell_type": "markdown",
   "metadata": {},
   "source": [
    "Each subreddit has five different ways of organizing the topics created by redditors: \n",
    "1. .hot \n",
    "2. .new\n",
    "3. .controversial \n",
    "4. .top\n",
    "5. .gilded\n",
    "\n",
    ".search(\"SEARCH_KEYWORDS\") can be used to get only results matching an engine search."
   ]
  },
  {
   "cell_type": "code",
   "execution_count": 4,
   "metadata": {},
   "outputs": [],
   "source": [
    "hot_posts = india_subreddit.hot(limit=10)"
   ]
  },
  {
   "cell_type": "markdown",
   "metadata": {},
   "source": [
    "## Extracting useful data of each post"
   ]
  },
  {
   "cell_type": "code",
   "execution_count": 58,
   "metadata": {},
   "outputs": [
    {
     "data": {
      "text/plain": [
       "\"The following code gave out an error: 'ValueError: arrays must all be same length' when being converted to a Dataframe.\""
      ]
     },
     "execution_count": 58,
     "metadata": {},
     "output_type": "execute_result"
    }
   ],
   "source": [
    "\"\"\" WRONG CODE BLOCK \"\"\"\n",
    "\"\"\"The following code gave out an error: \\\n",
    "'ValueError: arrays must all be same length' when being converted to a Dataframe.\"\"\"\n",
    "\n",
    "# india_posts = defaultdict(list)\n",
    "# for post in hot_posts:\n",
    "#     india_posts['title'].append(post.title)\n",
    "#     india_posts['score'].append(post.score)\n",
    "#     india_posts['url'].append(post.url)\n",
    "#     india_posts['num_comments'].append(post.num_comments)\n",
    "#     india_posts['text'].append(post.selftext)\n",
    "#     india_posts['created'].append(post.created)\n",
    "#     \n",
    "#     for comment in post.comments:\n",
    "#         india_posts['comments'].append(comment)\n",
    "\n",
    "# india_posts "
   ]
  },
  {
   "cell_type": "code",
   "execution_count": 40,
   "metadata": {},
   "outputs": [],
   "source": [
    "\"\"\" CORRECT CODE BLOCK \"\"\"\n",
    "india_posts = defaultdict(list)\n",
    "for post in hot_posts:\n",
    "    india_posts['title'].append(post.title)\n",
    "    india_posts['score'].append(post.score)\n",
    "    india_posts['url'].append(post.url)\n",
    "    india_posts['num_comments'].append(post.num_comments)\n",
    "    india_posts['text'].append(post.selftext)\n",
    "    india_posts['created'].append(post.created)\n",
    "\n",
    "    #  a limit of None means that all MoreComments objects will be replaced until there are none left\n",
    "    post.comments.replace_more(limit=None)\n",
    "    all_comments = ''\n",
    "    for comment in post.comments:\n",
    "        all_comments = all_comments + ' ' + comment.body\n",
    "    \n",
    "    india_posts['comments'].append(all_comments)"
   ]
  },
  {
   "cell_type": "markdown",
   "metadata": {},
   "source": [
    "## Converting the collected data to a Dataframe"
   ]
  },
  {
   "cell_type": "code",
   "execution_count": 6,
   "metadata": {},
   "outputs": [],
   "source": [
    "india_postsdf = pd.DataFrame(india_posts)"
   ]
  },
  {
   "cell_type": "markdown",
   "metadata": {},
   "source": [
    "# EXPLORATORY DATA ANALYSIS"
   ]
  },
  {
   "cell_type": "markdown",
   "metadata": {},
   "source": [
    "I noticed that the dates obtained are not legible.\n",
    "The content of title, innertext and comments contained unrequired data"
   ]
  },
  {
   "cell_type": "markdown",
   "metadata": {},
   "source": [
    "## Converting the dates to a more readable format"
   ]
  },
  {
   "cell_type": "code",
   "execution_count": 7,
   "metadata": {},
   "outputs": [],
   "source": [
    "def get_date(created):\n",
    "    return dt.datetime.fromtimestamp(created)"
   ]
  },
  {
   "cell_type": "code",
   "execution_count": 8,
   "metadata": {},
   "outputs": [],
   "source": [
    "_timestamp = india_postsdf[\"created\"].apply(get_date)\n",
    "india_postsdf = india_postsdf.assign(timestamp = _timestamp)\n",
    "del india_postsdf['created']"
   ]
  },
  {
   "cell_type": "markdown",
   "metadata": {},
   "source": [
    "## Preprocess function: For Better Text Representation  "
   ]
  },
  {
   "cell_type": "code",
   "execution_count": 9,
   "metadata": {},
   "outputs": [],
   "source": [
    "def preprocess(text):\n",
    "\n",
    "    stop_words = set(stopwords.words('english'))\n",
    "    word_tokens = word_tokenize(text)\n",
    "    filtered_sentence = [w for w in word_tokens if not w in stop_words]\n",
    "    filtered_sentence = ''\n",
    "    for w in word_tokens:\n",
    "        if w not in stop_words:\n",
    "            if w.isalnum():\n",
    "                w = w.lower()\n",
    "                filtered_sentence = filtered_sentence + ' ' + w\n",
    "    filtered_sentence = \" \".join(filtered_sentence.split())\n",
    "    return(filtered_sentence)"
   ]
  },
  {
   "cell_type": "code",
   "execution_count": 10,
   "metadata": {},
   "outputs": [],
   "source": [
    "india_postsdf['title'] = india_postsdf['title'].apply(preprocess)"
   ]
  },
  {
   "cell_type": "code",
   "execution_count": 11,
   "metadata": {},
   "outputs": [],
   "source": [
    "india_postsdf['comments'] = india_postsdf['comments'].apply(preprocess)"
   ]
  },
  {
   "cell_type": "code",
   "execution_count": 12,
   "metadata": {},
   "outputs": [],
   "source": [
    "india_postsdf['text'] = india_postsdf['text'].apply(preprocess)"
   ]
  },
  {
   "cell_type": "markdown",
   "metadata": {},
   "source": [
    "## Saving the dataset to a CSV file"
   ]
  },
  {
   "cell_type": "code",
   "execution_count": 13,
   "metadata": {},
   "outputs": [],
   "source": [
    "india_postsdf.to_csv('india_posts.csv', index=False)"
   ]
  },
  {
   "cell_type": "markdown",
   "metadata": {},
   "source": [
    "## Accessing the CSV File"
   ]
  },
  {
   "cell_type": "code",
   "execution_count": 13,
   "metadata": {},
   "outputs": [
    {
     "data": {
      "text/html": [
       "<div>\n",
       "<style scoped>\n",
       "    .dataframe tbody tr th:only-of-type {\n",
       "        vertical-align: middle;\n",
       "    }\n",
       "\n",
       "    .dataframe tbody tr th {\n",
       "        vertical-align: top;\n",
       "    }\n",
       "\n",
       "    .dataframe thead th {\n",
       "        text-align: right;\n",
       "    }\n",
       "</style>\n",
       "<table border=\"1\" class=\"dataframe\">\n",
       "  <thead>\n",
       "    <tr style=\"text-align: right;\">\n",
       "      <th></th>\n",
       "      <th>title</th>\n",
       "      <th>score</th>\n",
       "      <th>url</th>\n",
       "      <th>num_comments</th>\n",
       "      <th>text</th>\n",
       "      <th>comments</th>\n",
       "      <th>timestamp</th>\n",
       "    </tr>\n",
       "  </thead>\n",
       "  <tbody>\n",
       "    <tr>\n",
       "      <th>0</th>\n",
       "      <td>coronavirus megathread news updates 4</td>\n",
       "      <td>156</td>\n",
       "      <td>https://www.reddit.com/r/india/comments/g1zi21...</td>\n",
       "      <td>2262</td>\n",
       "      <td>fundraisers donation links https via amnesty i...</td>\n",
       "      <td>fundraisers donation links https via amnesty i...</td>\n",
       "      <td>2020-04-16 09:30:15</td>\n",
       "    </tr>\n",
       "    <tr>\n",
       "      <th>1</th>\n",
       "      <td>monthly happiness thread randians please share...</td>\n",
       "      <td>71</td>\n",
       "      <td>https://www.reddit.com/r/india/comments/g4d2ix...</td>\n",
       "      <td>90</td>\n",
       "      <td>3 links feb mht https jan mht https dec mht ht...</td>\n",
       "      <td>working home since past one month for someone ...</td>\n",
       "      <td>2020-04-20 08:20:40</td>\n",
       "    </tr>\n",
       "    <tr>\n",
       "      <th>2</th>\n",
       "      <td>facebook buys stake reliance jio rs cr largest...</td>\n",
       "      <td>779</td>\n",
       "      <td>https://economictimes.indiatimes.com/tech/inte...</td>\n",
       "      <td>121</td>\n",
       "      <td>NaN</td>\n",
       "      <td>kiss goodbye privacy so privacy getting sold f...</td>\n",
       "      <td>2020-04-22 15:53:14</td>\n",
       "    </tr>\n",
       "    <tr>\n",
       "      <th>3</th>\n",
       "      <td>covidiots arrested paraded making tiktok video...</td>\n",
       "      <td>224</td>\n",
       "      <td>https://www.news18.com/news/buzz/covidiots-arr...</td>\n",
       "      <td>23</td>\n",
       "      <td>NaN</td>\n",
       "      <td>haha die trash play stupid games win stupid pr...</td>\n",
       "      <td>2020-04-22 18:15:57</td>\n",
       "    </tr>\n",
       "    <tr>\n",
       "      <th>4</th>\n",
       "      <td>old girl dies walking three days go home</td>\n",
       "      <td>2761</td>\n",
       "      <td>https://i.redd.it/b5ml3vytv6u41.jpg</td>\n",
       "      <td>219</td>\n",
       "      <td>NaN</td>\n",
       "      <td>she passed away hour reaching home so close ye...</td>\n",
       "      <td>2020-04-22 04:56:35</td>\n",
       "    </tr>\n",
       "    <tr>\n",
       "      <th>5</th>\n",
       "      <td>ratan tata says redesign slums poor moving awa...</td>\n",
       "      <td>389</td>\n",
       "      <td>https://www.financialexpress.com/economy/ratan...</td>\n",
       "      <td>40</td>\n",
       "      <td>NaN</td>\n",
       "      <td>the tata group ran project industrial design c...</td>\n",
       "      <td>2020-04-22 14:38:14</td>\n",
       "    </tr>\n",
       "    <tr>\n",
       "      <th>6</th>\n",
       "      <td>up doctor involved survey tablighi jamat membe...</td>\n",
       "      <td>169</td>\n",
       "      <td>https://www.newindianexpress.com/nation/2020/a...</td>\n",
       "      <td>17</td>\n",
       "      <td>NaN</td>\n",
       "      <td>deleted last week 34 new cases andhra pradesh ...</td>\n",
       "      <td>2020-04-22 17:18:20</td>\n",
       "    </tr>\n",
       "    <tr>\n",
       "      <th>7</th>\n",
       "      <td>india 17th nation hit cases death toll crosses...</td>\n",
       "      <td>117</td>\n",
       "      <td>https://m.timesofindia.com/india/india-17th-na...</td>\n",
       "      <td>4</td>\n",
       "      <td>NaN</td>\n",
       "      <td>top 20 reddit defeated pak</td>\n",
       "      <td>2020-04-22 15:38:16</td>\n",
       "    </tr>\n",
       "    <tr>\n",
       "      <th>8</th>\n",
       "      <td>indians buried even pakistani kargil soldiers ...</td>\n",
       "      <td>88</td>\n",
       "      <td>https://theprint.in/opinion/pov/indians-buried...</td>\n",
       "      <td>7</td>\n",
       "      <td>NaN</td>\n",
       "      <td>what burying dead soldiers different burying p...</td>\n",
       "      <td>2020-04-22 17:08:29</td>\n",
       "    </tr>\n",
       "    <tr>\n",
       "      <th>9</th>\n",
       "      <td>how police used delhi riots teach jamia students</td>\n",
       "      <td>88</td>\n",
       "      <td>https://thewire.in/communalism/jamia-students-...</td>\n",
       "      <td>7</td>\n",
       "      <td>NaN</td>\n",
       "      <td>how rss terrorist personal militant used delhi...</td>\n",
       "      <td>2020-04-22 16:28:11</td>\n",
       "    </tr>\n",
       "  </tbody>\n",
       "</table>\n",
       "</div>"
      ],
      "text/plain": [
       "                                               title  score  \\\n",
       "0              coronavirus megathread news updates 4    156   \n",
       "1  monthly happiness thread randians please share...     71   \n",
       "2  facebook buys stake reliance jio rs cr largest...    779   \n",
       "3  covidiots arrested paraded making tiktok video...    224   \n",
       "4           old girl dies walking three days go home   2761   \n",
       "5  ratan tata says redesign slums poor moving awa...    389   \n",
       "6  up doctor involved survey tablighi jamat membe...    169   \n",
       "7  india 17th nation hit cases death toll crosses...    117   \n",
       "8  indians buried even pakistani kargil soldiers ...     88   \n",
       "9   how police used delhi riots teach jamia students     88   \n",
       "\n",
       "                                                 url  num_comments  \\\n",
       "0  https://www.reddit.com/r/india/comments/g1zi21...          2262   \n",
       "1  https://www.reddit.com/r/india/comments/g4d2ix...            90   \n",
       "2  https://economictimes.indiatimes.com/tech/inte...           121   \n",
       "3  https://www.news18.com/news/buzz/covidiots-arr...            23   \n",
       "4                https://i.redd.it/b5ml3vytv6u41.jpg           219   \n",
       "5  https://www.financialexpress.com/economy/ratan...            40   \n",
       "6  https://www.newindianexpress.com/nation/2020/a...            17   \n",
       "7  https://m.timesofindia.com/india/india-17th-na...             4   \n",
       "8  https://theprint.in/opinion/pov/indians-buried...             7   \n",
       "9  https://thewire.in/communalism/jamia-students-...             7   \n",
       "\n",
       "                                                text  \\\n",
       "0  fundraisers donation links https via amnesty i...   \n",
       "1  3 links feb mht https jan mht https dec mht ht...   \n",
       "2                                                NaN   \n",
       "3                                                NaN   \n",
       "4                                                NaN   \n",
       "5                                                NaN   \n",
       "6                                                NaN   \n",
       "7                                                NaN   \n",
       "8                                                NaN   \n",
       "9                                                NaN   \n",
       "\n",
       "                                            comments            timestamp  \n",
       "0  fundraisers donation links https via amnesty i...  2020-04-16 09:30:15  \n",
       "1  working home since past one month for someone ...  2020-04-20 08:20:40  \n",
       "2  kiss goodbye privacy so privacy getting sold f...  2020-04-22 15:53:14  \n",
       "3  haha die trash play stupid games win stupid pr...  2020-04-22 18:15:57  \n",
       "4  she passed away hour reaching home so close ye...  2020-04-22 04:56:35  \n",
       "5  the tata group ran project industrial design c...  2020-04-22 14:38:14  \n",
       "6  deleted last week 34 new cases andhra pradesh ...  2020-04-22 17:18:20  \n",
       "7                         top 20 reddit defeated pak  2020-04-22 15:38:16  \n",
       "8  what burying dead soldiers different burying p...  2020-04-22 17:08:29  \n",
       "9  how rss terrorist personal militant used delhi...  2020-04-22 16:28:11  "
      ]
     },
     "execution_count": 13,
     "metadata": {},
     "output_type": "execute_result"
    }
   ],
   "source": [
    "india_posts = pd.read_csv('../Dataset/india_posts.csv')\n",
    "india_posts.head(10)"
   ]
  },
  {
   "cell_type": "code",
   "execution_count": 14,
   "metadata": {},
   "outputs": [
    {
     "data": {
      "text/plain": [
       "title           object\n",
       "score            int64\n",
       "url             object\n",
       "num_comments     int64\n",
       "text            object\n",
       "comments        object\n",
       "timestamp       object\n",
       "dtype: object"
      ]
     },
     "execution_count": 14,
     "metadata": {},
     "output_type": "execute_result"
    }
   ],
   "source": [
    "india_posts.dtypes"
   ]
  },
  {
   "cell_type": "markdown",
   "metadata": {},
   "source": [
    "# BUILDING A FLAIR DETECTOR"
   ]
  },
  {
   "cell_type": "markdown",
   "metadata": {},
   "source": [
    "The tags assigned to each post are called Flairs in the Reddit world. \n",
    "\n",
    "With some research, I compiled all the flairs at r/india"
   ]
  },
  {
   "cell_type": "code",
   "execution_count": 3,
   "metadata": {},
   "outputs": [],
   "source": [
    "flairs={0:'Politics',1:'Non-Political',2:'AskIndia', 3:\"[R]eddiquette\", 4:'Science/Technology', 5:'Policy/Economy', 6:'Business/Finance', 7:'Scheduled', 8:'Sports', 9:'Food', 10:'Photography', 11:'AMA', 12:'Coronavirus'}"
   ]
  },
  {
   "cell_type": "markdown",
   "metadata": {},
   "source": [
    "## Data Collection"
   ]
  },
  {
   "cell_type": "markdown",
   "metadata": {},
   "source": [
    "For Flair Prediction, I figured that date created, score and number of comments won't add much value to the dataset.\n",
    "\n",
    "I thus selected \n",
    "- flair\n",
    "- title\n",
    "- url\n",
    "- text\n",
    "- comments\n",
    "\n",
    "as the keys for my dictionary."
   ]
  },
  {
   "cell_type": "code",
   "execution_count": 41,
   "metadata": {},
   "outputs": [],
   "source": [
    "data = defaultdict(list)\n",
    "for flair in flairs:\n",
    "    search_flair = india_subreddit.search(flairs[flair], limit=100)\n",
    "    for post in search_flair:\n",
    "        data['flair'].append(flair)\n",
    "        data['title'].append(post.title)\n",
    "        data['url'].append(post.url)\n",
    "        data['text'].append(post.selftext)\n",
    "        post.comments.replace_more(limit=None)\n",
    "        all_comments = ''\n",
    "        for comment in post.comments:\n",
    "            all_comments = all_comments + ' ' + comment.body\n",
    "\n",
    "        data['comments'].append(all_comments)"
   ]
  },
  {
   "cell_type": "markdown",
   "metadata": {},
   "source": [
    "## Exploratory Data Analysis"
   ]
  },
  {
   "cell_type": "code",
   "execution_count": 8,
   "metadata": {},
   "outputs": [
    {
     "name": "stdout",
     "output_type": "stream",
     "text": [
      "flair         0\n",
      "title         1\n",
      "url           0\n",
      "text        538\n",
      "comments    129\n",
      "dtype: int64\n"
     ]
    }
   ],
   "source": [
    "# Checking the null values\n",
    "\n",
    "print(datadf.isnull().sum())"
   ]
  },
  {
   "cell_type": "markdown",
   "metadata": {},
   "source": [
    "I believe that the null columns should not be removed since the actual data will also comprise of missing values.\n",
    "\n",
    "Removing missing values might result in a better accuracy on the dataset so created.\n",
    "\n",
    "But, the inferences might not give good results as the training data is not representative of the real world data."
   ]
  },
  {
   "cell_type": "markdown",
   "metadata": {},
   "source": [
    "## Data Pre-processing"
   ]
  },
  {
   "cell_type": "code",
   "execution_count": 20,
   "metadata": {},
   "outputs": [],
   "source": [
    "datadf = pd.DataFrame(data)\n",
    "\n",
    "datadf['title'] = datadf['title'].apply(preprocess)\n",
    "datadf['comments'] = datadf['comments'].apply(preprocess)\n",
    "datadf['text'] = datadf['text'].apply(preprocess)"
   ]
  },
  {
   "cell_type": "markdown",
   "metadata": {},
   "source": [
    "## Saving to and accessing the CSV File"
   ]
  },
  {
   "cell_type": "code",
   "execution_count": 5,
   "metadata": {},
   "outputs": [],
   "source": [
    "datadf.to_csv('dataset.csv', index=False)"
   ]
  },
  {
   "cell_type": "code",
   "execution_count": 6,
   "metadata": {
    "scrolled": true
   },
   "outputs": [
    {
     "data": {
      "text/html": [
       "<div>\n",
       "<style scoped>\n",
       "    .dataframe tbody tr th:only-of-type {\n",
       "        vertical-align: middle;\n",
       "    }\n",
       "\n",
       "    .dataframe tbody tr th {\n",
       "        vertical-align: top;\n",
       "    }\n",
       "\n",
       "    .dataframe thead th {\n",
       "        text-align: right;\n",
       "    }\n",
       "</style>\n",
       "<table border=\"1\" class=\"dataframe\">\n",
       "  <thead>\n",
       "    <tr style=\"text-align: right;\">\n",
       "      <th></th>\n",
       "      <th>flair</th>\n",
       "      <th>title</th>\n",
       "      <th>url</th>\n",
       "      <th>text</th>\n",
       "      <th>comments</th>\n",
       "    </tr>\n",
       "  </thead>\n",
       "  <tbody>\n",
       "    <tr>\n",
       "      <th>0</th>\n",
       "      <td>0</td>\n",
       "      <td>a polite request indians</td>\n",
       "      <td>https://www.reddit.com/r/india/comments/g2ct57...</td>\n",
       "      <td>i know situation countries india i seen a lot ...</td>\n",
       "      <td>our society thrives abuse power we let many id...</td>\n",
       "    </tr>\n",
       "    <tr>\n",
       "      <th>1</th>\n",
       "      <td>0</td>\n",
       "      <td>pitting community political party fucking stupid</td>\n",
       "      <td>https://www.reddit.com/r/india/comments/futac9...</td>\n",
       "      <td>first let start saying stupid whatever muslims...</td>\n",
       "      <td>our country far moment turning back best hope ...</td>\n",
       "    </tr>\n",
       "    <tr>\n",
       "      <th>2</th>\n",
       "      <td>0</td>\n",
       "      <td>hit backlash posts lack medical gear doctors g...</td>\n",
       "      <td>https://theprint.in/india/hit-by-backlash-over...</td>\n",
       "      <td>NaN</td>\n",
       "      <td>well some people really deserve die this count...</td>\n",
       "    </tr>\n",
       "    <tr>\n",
       "      <th>3</th>\n",
       "      <td>0</td>\n",
       "      <td>a new political party gave full front page ad ...</td>\n",
       "      <td>https://i.redd.it/yjo9wpy38el41.jpg</td>\n",
       "      <td>NaN</td>\n",
       "      <td>this looks like iipm ad 1 where get funds full...</td>\n",
       "    </tr>\n",
       "    <tr>\n",
       "      <th>4</th>\n",
       "      <td>0</td>\n",
       "      <td>politics time corona wb cm questions centre ch...</td>\n",
       "      <td>https://www.timesnownews.com/india/article/pol...</td>\n",
       "      <td>NaN</td>\n",
       "      <td>oh ffs yellow orange green red used emergency ...</td>\n",
       "    </tr>\n",
       "    <tr>\n",
       "      <th>5</th>\n",
       "      <td>0</td>\n",
       "      <td>i curious indian politicians think good job po...</td>\n",
       "      <td>https://www.reddit.com/r/india/comments/fs887w...</td>\n",
       "      <td>personally i would pick pinarayi vijayan cpim ...</td>\n",
       "      <td>if anything positive fight covid give credits ...</td>\n",
       "    </tr>\n",
       "    <tr>\n",
       "      <th>6</th>\n",
       "      <td>0</td>\n",
       "      <td>in trying time let try little less bit human</td>\n",
       "      <td>https://www.reddit.com/r/india/comments/flm79b...</td>\n",
       "      <td>i shocking interaction morning a bunch us vari...</td>\n",
       "      <td>what incredibly narrow minded person our great...</td>\n",
       "    </tr>\n",
       "    <tr>\n",
       "      <th>7</th>\n",
       "      <td>0</td>\n",
       "      <td>aap woeful response delhi communal violence re...</td>\n",
       "      <td>https://scroll.in/article/954991/aaps-woeful-r...</td>\n",
       "      <td>NaN</td>\n",
       "      <td>so argument dms could commanded police armed f...</td>\n",
       "    </tr>\n",
       "    <tr>\n",
       "      <th>8</th>\n",
       "      <td>0</td>\n",
       "      <td>politeness actor swara bhasker kunal kamra div...</td>\n",
       "      <td>https://scroll.in/video/952528/f-your-politene...</td>\n",
       "      <td>NaN</td>\n",
       "      <td>i tend agree after first delhi shootings arnab...</td>\n",
       "    </tr>\n",
       "    <tr>\n",
       "      <th>9</th>\n",
       "      <td>0</td>\n",
       "      <td>how political satirists like harishankar parsa...</td>\n",
       "      <td>https://www.reddit.com/r/india/comments/fhera0...</td>\n",
       "      <td>this thought came mind i reading parsai works ...</td>\n",
       "      <td>except indira loved dissent they spine back so...</td>\n",
       "    </tr>\n",
       "  </tbody>\n",
       "</table>\n",
       "</div>"
      ],
      "text/plain": [
       "   flair                                              title  \\\n",
       "0      0                           a polite request indians   \n",
       "1      0   pitting community political party fucking stupid   \n",
       "2      0  hit backlash posts lack medical gear doctors g...   \n",
       "3      0  a new political party gave full front page ad ...   \n",
       "4      0  politics time corona wb cm questions centre ch...   \n",
       "5      0  i curious indian politicians think good job po...   \n",
       "6      0       in trying time let try little less bit human   \n",
       "7      0  aap woeful response delhi communal violence re...   \n",
       "8      0  politeness actor swara bhasker kunal kamra div...   \n",
       "9      0  how political satirists like harishankar parsa...   \n",
       "\n",
       "                                                 url  \\\n",
       "0  https://www.reddit.com/r/india/comments/g2ct57...   \n",
       "1  https://www.reddit.com/r/india/comments/futac9...   \n",
       "2  https://theprint.in/india/hit-by-backlash-over...   \n",
       "3                https://i.redd.it/yjo9wpy38el41.jpg   \n",
       "4  https://www.timesnownews.com/india/article/pol...   \n",
       "5  https://www.reddit.com/r/india/comments/fs887w...   \n",
       "6  https://www.reddit.com/r/india/comments/flm79b...   \n",
       "7  https://scroll.in/article/954991/aaps-woeful-r...   \n",
       "8  https://scroll.in/video/952528/f-your-politene...   \n",
       "9  https://www.reddit.com/r/india/comments/fhera0...   \n",
       "\n",
       "                                                text  \\\n",
       "0  i know situation countries india i seen a lot ...   \n",
       "1  first let start saying stupid whatever muslims...   \n",
       "2                                                NaN   \n",
       "3                                                NaN   \n",
       "4                                                NaN   \n",
       "5  personally i would pick pinarayi vijayan cpim ...   \n",
       "6  i shocking interaction morning a bunch us vari...   \n",
       "7                                                NaN   \n",
       "8                                                NaN   \n",
       "9  this thought came mind i reading parsai works ...   \n",
       "\n",
       "                                            comments  \n",
       "0  our society thrives abuse power we let many id...  \n",
       "1  our country far moment turning back best hope ...  \n",
       "2  well some people really deserve die this count...  \n",
       "3  this looks like iipm ad 1 where get funds full...  \n",
       "4  oh ffs yellow orange green red used emergency ...  \n",
       "5  if anything positive fight covid give credits ...  \n",
       "6  what incredibly narrow minded person our great...  \n",
       "7  so argument dms could commanded police armed f...  \n",
       "8  i tend agree after first delhi shootings arnab...  \n",
       "9  except indira loved dissent they spine back so...  "
      ]
     },
     "execution_count": 6,
     "metadata": {},
     "output_type": "execute_result"
    }
   ],
   "source": [
    "datadf = pd.read_csv('../Dataset/dataset.csv')\n",
    "datadf.head(10)"
   ]
  },
  {
   "cell_type": "markdown",
   "metadata": {},
   "source": [
    "## Class Distribution"
   ]
  },
  {
   "cell_type": "code",
   "execution_count": 9,
   "metadata": {},
   "outputs": [
    {
     "data": {
      "text/plain": [
       "1218"
      ]
     },
     "execution_count": 9,
     "metadata": {},
     "output_type": "execute_result"
    }
   ],
   "source": [
    "# Number of posts\n",
    "len(datadf['title'])"
   ]
  },
  {
   "cell_type": "code",
   "execution_count": 10,
   "metadata": {},
   "outputs": [
    {
     "data": {
      "text/plain": [
       "12    100\n",
       "11    100\n",
       "10    100\n",
       "9     100\n",
       "8     100\n",
       "7     100\n",
       "6     100\n",
       "5     100\n",
       "4     100\n",
       "2     100\n",
       "1     100\n",
       "0     100\n",
       "3      18\n",
       "Name: flair, dtype: int64"
      ]
     },
     "execution_count": 10,
     "metadata": {},
     "output_type": "execute_result"
    }
   ],
   "source": [
    "datadf.flair.value_counts()"
   ]
  },
  {
   "cell_type": "code",
   "execution_count": 11,
   "metadata": {},
   "outputs": [
    {
     "data": {
      "image/png": "[encoded data removed]",
      "text/plain": [
       "<Figure size 720x288 with 1 Axes>"
      ]
     },
     "metadata": {
      "needs_background": "light"
     },
     "output_type": "display_data"
    }
   ],
   "source": [
    "plt.figure(figsize=(10,4))\n",
    "datadf.flair.value_counts().plot(kind='bar');"
   ]
  },
  {
   "cell_type": "markdown",
   "metadata": {},
   "source": [
    "I noticed that __the data distribution is imbalanced__, with the [R]eddiquette class having low data as compared to the other classes. This can result in the __minority class being treated as outlier and ignored.__\n",
    "\n",
    "On researching, I figured that __the [R]eddiquette flair was discontinued 7 months ago.__ Thus, resulting in the less number of posts."
   ]
  },
  {
   "cell_type": "markdown",
   "metadata": {},
   "source": [
    "## Dropping the class from the dataset"
   ]
  },
  {
   "cell_type": "code",
   "execution_count": 12,
   "metadata": {},
   "outputs": [],
   "source": [
    "datadf.drop(datadf[datadf['flair'] == 3].index, inplace = True) "
   ]
  },
  {
   "cell_type": "code",
   "execution_count": 13,
   "metadata": {},
   "outputs": [
    {
     "data": {
      "text/plain": [
       "1200"
      ]
     },
     "execution_count": 13,
     "metadata": {},
     "output_type": "execute_result"
    }
   ],
   "source": [
    "# Number of posts\n",
    "len(datadf['title'])"
   ]
  },
  {
   "cell_type": "code",
   "execution_count": 14,
   "metadata": {},
   "outputs": [
    {
     "data": {
      "image/png": "[encoded data removed]",
      "text/plain": [
       "<Figure size 720x288 with 1 Axes>"
      ]
     },
     "metadata": {
      "needs_background": "light"
     },
     "output_type": "display_data"
    }
   ],
   "source": [
    "plt.figure(figsize=(10,4))\n",
    "datadf.flair.value_counts().plot(kind='bar');"
   ]
  },
  {
   "cell_type": "markdown",
   "metadata": {},
   "source": [
    "## Splitting data into Train and Test Sets"
   ]
  },
  {
   "cell_type": "code",
   "execution_count": 22,
   "metadata": {},
   "outputs": [],
   "source": [
    "X = datadf.title\n",
    "X = X.values.astype('U')\n",
    "y = datadf.flair\n",
    "X_train, X_test, y_train, y_test = train_test_split(X, y, test_size=0.3, random_state = 27)"
   ]
  },
  {
   "cell_type": "code",
   "execution_count": 23,
   "metadata": {},
   "outputs": [
    {
     "name": "stdout",
     "output_type": "stream",
     "text": [
      "Number transactions X_train dataset:  (840,)\n",
      "Number transactions y_train dataset:  (840,)\n",
      "Number transactions X_test dataset:  (360,)\n",
      "Number transactions y_test dataset:  (360,)\n"
     ]
    }
   ],
   "source": [
    "# describes info about train and test set \n",
    "print(\"Number transactions X_train dataset: \", X_train.shape) \n",
    "print(\"Number transactions y_train dataset: \", y_train.shape) \n",
    "print(\"Number transactions X_test dataset: \", X_test.shape) \n",
    "print(\"Number transactions y_test dataset: \", y_test.shape) "
   ]
  },
  {
   "cell_type": "markdown",
   "metadata": {},
   "source": [
    "## Model Selection"
   ]
  },
  {
   "cell_type": "markdown",
   "metadata": {},
   "source": [
    "Common Text Classification Algorithms : \n",
    "\n",
    "logistic regression, support vector machine, naive Bayes classifier, decision trees, random forest"
   ]
  },
  {
   "cell_type": "markdown",
   "metadata": {},
   "source": [
    "### Logistic Regression"
   ]
  },
  {
   "cell_type": "code",
   "execution_count": 24,
   "metadata": {},
   "outputs": [],
   "source": [
    "def logistic_reg(X_train, y_train):\n",
    "\n",
    "    logreg = Pipeline([('tfidf', TfidfVectorizer()),\n",
    "                    ('clf', LogisticRegression(n_jobs=1, C=1e5, max_iter=2000)),\n",
    "                   ])\n",
    "    lr = logreg.fit(X_train, y_train)\n",
    "    \n",
    "    return lr"
   ]
  },
  {
   "cell_type": "markdown",
   "metadata": {},
   "source": [
    "### Linear Support Vector Machine"
   ]
  },
  {
   "cell_type": "code",
   "execution_count": 25,
   "metadata": {},
   "outputs": [],
   "source": [
    "def linear_svm(X_train, y_train):\n",
    "\n",
    "    sgd = Pipeline([('tfidf', TfidfVectorizer()),\n",
    "                    ('clf', SGDClassifier(loss='hinge', penalty='l2',alpha=1e-3, random_state=42, max_iter=1000, tol=None)),\n",
    "                   ])\n",
    "    svm = sgd.fit(X_train, y_train)\n",
    "  \n",
    "    return svm"
   ]
  },
  {
   "cell_type": "markdown",
   "metadata": {},
   "source": [
    "### Naive Bayes Classifier"
   ]
  },
  {
   "cell_type": "code",
   "execution_count": 26,
   "metadata": {},
   "outputs": [],
   "source": [
    "def naive_bayes(X_train, y_train):\n",
    "    from sklearn.naive_bayes import MultinomialNB\n",
    "    from sklearn.pipeline import Pipeline\n",
    "    from sklearn.feature_extraction.text import TfidfTransformer\n",
    "\n",
    "    nb = Pipeline([('tfidf', TfidfVectorizer()),\n",
    "                   ('clf', MultinomialNB()),\n",
    "                  ])\n",
    "    n = nb.fit(X_train, y_train)\n",
    "\n",
    "    return n"
   ]
  },
  {
   "cell_type": "markdown",
   "metadata": {},
   "source": [
    "### Decision Trees"
   ]
  },
  {
   "cell_type": "code",
   "execution_count": 27,
   "metadata": {},
   "outputs": [],
   "source": [
    "def decision_trees(X_train, y_train):\n",
    "   \n",
    "    dt = Pipeline([('tfidf', TfidfVectorizer()),\n",
    "                   ('clf', DecisionTreeClassifier()),\n",
    "                  ])\n",
    "    d = dt.fit(X_train,y_train)\n",
    "    \n",
    "    return d"
   ]
  },
  {
   "cell_type": "markdown",
   "metadata": {},
   "source": [
    "### Random Forest"
   ]
  },
  {
   "cell_type": "code",
   "execution_count": 28,
   "metadata": {},
   "outputs": [],
   "source": [
    "def random_forest(X_train, y_train):\n",
    "\n",
    "    ranfor = Pipeline([('tfidf', TfidfVectorizer()),\n",
    "                  ('clf', RandomForestClassifier(n_estimators = 1000, random_state = 42)),\n",
    "                 ])\n",
    "    rf = ranfor.fit(X_train, y_train)\n",
    "\n",
    "    return rf"
   ]
  },
  {
   "cell_type": "markdown",
   "metadata": {},
   "source": [
    "## Comparison of Models"
   ]
  },
  {
   "cell_type": "code",
   "execution_count": 29,
   "metadata": {},
   "outputs": [],
   "source": [
    "datalr = []\n",
    "datasvm = []\n",
    "datanb = []\n",
    "datadt = []\n",
    "datarf = []\n",
    "\n",
    "for i in range(1,8):\n",
    "    xtr = X_train[0:i*100]\n",
    "    ytr = y_train[0:i*100]\n",
    "    clflr = logistic_reg(xtr, ytr)\n",
    "    clfsvm = linear_svm(xtr, ytr)\n",
    "    clfnb = naive_bayes(xtr, ytr)\n",
    "    clfdt = decision_trees(xtr, ytr)\n",
    "    clfrf = random_forest(xtr, ytr)\n",
    "    \n",
    "    datalr.append(clflr.score(X_test,y_test))\n",
    "    datasvm.append(clfsvm.score(X_test,y_test))\n",
    "    datanb.append(clfnb.score(X_test,y_test))\n",
    "    datadt.append(clfdt.score(X_test, y_test))\n",
    "    datarf.append(clfrf.score(X_test, y_test))"
   ]
  },
  {
   "cell_type": "code",
   "execution_count": 30,
   "metadata": {},
   "outputs": [
    {
     "data": {
      "image/png": "[encoded data removed]",
      "text/plain": [
       "<Figure size 432x288 with 1 Axes>"
      ]
     },
     "metadata": {
      "needs_background": "light"
     },
     "output_type": "display_data"
    }
   ],
   "source": [
    "plt.plot([100,200,300,400,500,600,700],datalr,color='y')\n",
    "plt.plot([100,200,300,400,500,600,700],datasvm,color='r')\n",
    "plt.plot([100,200,300,400,500,600,700],datanb,color='g')\n",
    "plt.plot([100,200,300,400,500,600,700],datadt,color='b')\n",
    "plt.plot([100,200,300,400,500,600,700],datarf,color='c')\n",
    "plt.gca().legend(('Logistic Regression', 'SVM','Naive Bayes','Decision Trees','Random Forest'))\n",
    "plt.xlabel('No. of Data Points')\n",
    "plt.ylabel('Accuracy')\n",
    "plt.title('Models Trail Summary')\n",
    "plt.show()"
   ]
  },
  {
   "cell_type": "code",
   "execution_count": 31,
   "metadata": {},
   "outputs": [
    {
     "name": "stdout",
     "output_type": "stream",
     "text": [
      "Final Accuracies with 800 data points:\n",
      "Logistic Regression: 0.6083333333333333 \n",
      "Support Vector Machine: 0.6027777777777777\n",
      "Naive Bayes: 0.5583333333333333\n",
      "Decision Trees: 0.5777777777777777\n",
      "Random Forest: 0.6166666666666667\n"
     ]
    }
   ],
   "source": [
    "print(\"Final Accuracies with 800 data points:\")\n",
    "print(\"Logistic Regression: {} \".format(datalr[-1]))\n",
    "print(\"Support Vector Machine: {}\".format(datasvm[-1]))\n",
    "print(\"Naive Bayes: {}\".format(datanb[-1]))\n",
    "print(\"Decision Trees: {}\".format(datadt[-1]))\n",
    "print(\"Random Forest: {}\".format(datarf[-1]))"
   ]
  },
  {
   "cell_type": "markdown",
   "metadata": {},
   "source": [
    "Clearly, Random Forest Classifier works best amongst all the classifiers."
   ]
  },
  {
   "cell_type": "markdown",
   "metadata": {},
   "source": [
    "## Training Random Forest on the whole dataset"
   ]
  },
  {
   "cell_type": "markdown",
   "metadata": {},
   "source": [
    "### Using only Title in Dataset"
   ]
  },
  {
   "cell_type": "code",
   "execution_count": 32,
   "metadata": {},
   "outputs": [
    {
     "name": "stdout",
     "output_type": "stream",
     "text": [
      "Accuracy: 0.625\n",
      "              precision    recall  f1-score   support\n",
      "\n",
      "           0       0.71      0.44      0.55        27\n",
      "           1       0.47      0.45      0.46        38\n",
      "           2       0.72      0.64      0.68        36\n",
      "           4       0.85      0.59      0.70        39\n",
      "           5       0.56      0.50      0.53        30\n",
      "           6       0.23      0.53      0.32        30\n",
      "           7       0.46      0.50      0.48        22\n",
      "           8       0.82      0.58      0.68        31\n",
      "           9       0.89      0.89      0.89        27\n",
      "          10       0.83      0.83      0.83        35\n",
      "          11       0.83      0.79      0.81        24\n",
      "          12       0.90      0.86      0.88        21\n",
      "\n",
      "    accuracy                           0.62       360\n",
      "   macro avg       0.69      0.63      0.65       360\n",
      "weighted avg       0.69      0.62      0.64       360\n",
      "\n"
     ]
    }
   ],
   "source": [
    "ranfor = Pipeline([('tfidf', TfidfVectorizer()),\n",
    "                  ('clf', RandomForestClassifier(n_estimators = 1000, random_state = 42)),\n",
    "                 ])\n",
    "rf1 = ranfor.fit(X_train, y_train)\n",
    "\n",
    "y_pred = rf1.predict(X_test)\n",
    "print('Accuracy: %s' % accuracy_score(y_test, y_pred))\n",
    "print(classification_report(y_test, y_pred))"
   ]
  },
  {
   "cell_type": "markdown",
   "metadata": {},
   "source": [
    "### Using Training Data as Title + Comments"
   ]
  },
  {
   "cell_type": "code",
   "execution_count": 33,
   "metadata": {},
   "outputs": [],
   "source": [
    "# using title+ comments as training data\n",
    "X2 = datadf.title + datadf.comments\n",
    "X2 = X2.values.astype('U')\n",
    "y2 = datadf.flair\n",
    "X_train2, X_test2, y_train2, y_test2 = train_test_split(X2, y2, test_size=0.3, random_state = 27)"
   ]
  },
  {
   "cell_type": "code",
   "execution_count": 34,
   "metadata": {},
   "outputs": [
    {
     "name": "stdout",
     "output_type": "stream",
     "text": [
      "Accuracy: 0.5694444444444444\n",
      "              precision    recall  f1-score   support\n",
      "\n",
      "           0       0.58      0.56      0.57        27\n",
      "           1       0.67      0.32      0.43        38\n",
      "           2       0.65      0.31      0.42        36\n",
      "           4       0.89      0.44      0.59        39\n",
      "           5       0.74      0.47      0.57        30\n",
      "           6       0.67      0.53      0.59        30\n",
      "           7       0.46      0.55      0.50        22\n",
      "           8       0.63      0.77      0.70        31\n",
      "           9       0.68      0.70      0.69        27\n",
      "          10       0.82      0.89      0.85        35\n",
      "          11       0.40      0.67      0.50        24\n",
      "          12       0.27      0.86      0.41        21\n",
      "\n",
      "    accuracy                           0.57       360\n",
      "   macro avg       0.62      0.59      0.57       360\n",
      "weighted avg       0.65      0.57      0.57       360\n",
      "\n"
     ]
    }
   ],
   "source": [
    "rf2 = ranfor.fit(X_train2, y_train2)\n",
    "\n",
    "y_pred = rf2.predict(X_test2)\n",
    "print('Accuracy: %s' % accuracy_score(y_test2, y_pred))\n",
    "print(classification_report(y_test2, y_pred))"
   ]
  },
  {
   "cell_type": "markdown",
   "metadata": {},
   "source": [
    "### Using Training Data as Title + Comments + Text"
   ]
  },
  {
   "cell_type": "code",
   "execution_count": 35,
   "metadata": {},
   "outputs": [],
   "source": [
    "X3 = datadf.title + datadf.comments + datadf.text\n",
    "\n",
    "X3 = X3.values.astype('U')\n",
    "y3 = datadf.flair\n",
    "X_train3, X_test3, y_train3, y_test3 = train_test_split(X3, y3, test_size=0.3, random_state = 27)"
   ]
  },
  {
   "cell_type": "code",
   "execution_count": 36,
   "metadata": {},
   "outputs": [
    {
     "name": "stdout",
     "output_type": "stream",
     "text": [
      "Accuracy: 0.35\n"
     ]
    },
    {
     "name": "stderr",
     "output_type": "stream",
     "text": [
      "/home/gunnika/anaconda3/lib/python3.7/site-packages/sklearn/metrics/_classification.py:1272: UndefinedMetricWarning: Precision and F-score are ill-defined and being set to 0.0 in labels with no predicted samples. Use `zero_division` parameter to control this behavior.\n",
      "  _warn_prf(average, modifier, msg_start, len(result))\n"
     ]
    },
    {
     "name": "stdout",
     "output_type": "stream",
     "text": [
      "              precision    recall  f1-score   support\n",
      "\n",
      "           0       0.00      0.00      0.00        27\n",
      "           1       0.25      0.03      0.05        38\n",
      "           2       0.32      0.69      0.44        36\n",
      "           4       0.83      0.13      0.22        39\n",
      "           5       0.71      0.50      0.59        30\n",
      "           6       0.71      0.50      0.59        30\n",
      "           7       0.80      0.18      0.30        22\n",
      "           8       0.67      0.32      0.43        31\n",
      "           9       0.50      0.07      0.13        27\n",
      "          10       1.00      0.40      0.57        35\n",
      "          11       0.57      0.71      0.63        24\n",
      "          12       0.11      0.86      0.20        21\n",
      "\n",
      "    accuracy                           0.35       360\n",
      "   macro avg       0.54      0.37      0.35       360\n",
      "weighted avg       0.55      0.35      0.35       360\n",
      "\n"
     ]
    }
   ],
   "source": [
    "rf3 = ranfor.fit(X_train3, y_train3)\n",
    "\n",
    "y_pred = rf3.predict(X_test3)\n",
    "print('Accuracy: %s' % accuracy_score(y_test3, y_pred))\n",
    "print(classification_report(y_test3, y_pred))"
   ]
  },
  {
   "cell_type": "markdown",
   "metadata": {},
   "source": [
    "Adding the inner text to training data reduced the accuracy drastically. \n",
    "\n",
    "This is because from previous observation of null values, the inner text of 538 posts is missing."
   ]
  },
  {
   "cell_type": "markdown",
   "metadata": {},
   "source": [
    "### Using Training Data as Title + Comments + URL"
   ]
  },
  {
   "cell_type": "code",
   "execution_count": 37,
   "metadata": {},
   "outputs": [],
   "source": [
    "X4 = datadf.title + datadf.comments + datadf.url\n",
    "\n",
    "X4 = X4.values.astype('U')\n",
    "y4 = datadf.flair\n",
    "X_train4, X_test4, y_train4, y_test4 = train_test_split(X4, y4, test_size=0.3, random_state = 27)"
   ]
  },
  {
   "cell_type": "code",
   "execution_count": 38,
   "metadata": {},
   "outputs": [
    {
     "name": "stdout",
     "output_type": "stream",
     "text": [
      "Accuracy: 0.5861111111111111\n",
      "              precision    recall  f1-score   support\n",
      "\n",
      "           0       0.67      0.59      0.63        27\n",
      "           1       0.71      0.32      0.44        38\n",
      "           2       0.56      0.56      0.56        36\n",
      "           4       0.90      0.46      0.61        39\n",
      "           5       0.73      0.53      0.62        30\n",
      "           6       0.68      0.57      0.62        30\n",
      "           7       0.45      0.41      0.43        22\n",
      "           8       0.67      0.71      0.69        31\n",
      "           9       0.77      0.63      0.69        27\n",
      "          10       0.83      0.86      0.85        35\n",
      "          11       0.42      0.67      0.52        24\n",
      "          12       0.27      0.86      0.41        21\n",
      "\n",
      "    accuracy                           0.59       360\n",
      "   macro avg       0.64      0.60      0.59       360\n",
      "weighted avg       0.66      0.59      0.60       360\n",
      "\n"
     ]
    }
   ],
   "source": [
    "rf4 = ranfor.fit(X_train4, y_train4)\n",
    "\n",
    "y_pred = rf4.predict(X_test4)\n",
    "print('Accuracy: %s' % accuracy_score(y_test4, y_pred))\n",
    "print(classification_report(y_test4, y_pred))"
   ]
  },
  {
   "cell_type": "markdown",
   "metadata": {},
   "source": [
    "### Using Training Data as Title + Comments + Text + URL"
   ]
  },
  {
   "cell_type": "code",
   "execution_count": 40,
   "metadata": {},
   "outputs": [],
   "source": [
    "X5 = datadf.title + datadf.comments + datadf.text + datadf.url\n",
    "\n",
    "X5 = X5.values.astype('U')\n",
    "y5 = datadf.flair\n",
    "X_train5, X_test5, y_train5, y_test5 = train_test_split(X5, y4, test_size=0.3, random_state = 27)"
   ]
  },
  {
   "cell_type": "code",
   "execution_count": 41,
   "metadata": {},
   "outputs": [
    {
     "name": "stdout",
     "output_type": "stream",
     "text": [
      "Accuracy: 0.35\n",
      "              precision    recall  f1-score   support\n",
      "\n",
      "           0       1.00      0.04      0.07        27\n",
      "           1       0.33      0.08      0.13        38\n",
      "           2       0.37      0.72      0.49        36\n",
      "           4       0.86      0.15      0.26        39\n",
      "           5       0.68      0.50      0.58        30\n",
      "           6       0.59      0.43      0.50        30\n",
      "           7       0.83      0.23      0.36        22\n",
      "           8       0.71      0.32      0.44        31\n",
      "           9       0.67      0.07      0.13        27\n",
      "          10       1.00      0.40      0.57        35\n",
      "          11       0.47      0.58      0.52        24\n",
      "          12       0.11      0.81      0.19        21\n",
      "\n",
      "    accuracy                           0.35       360\n",
      "   macro avg       0.63      0.36      0.35       360\n",
      "weighted avg       0.64      0.35      0.36       360\n",
      "\n"
     ]
    }
   ],
   "source": [
    "rf5 = ranfor.fit(X_train5, y_train5)\n",
    "\n",
    "y_pred = rf5.predict(X_test5)\n",
    "print('Accuracy: %s' % accuracy_score(y_test5, y_pred))\n",
    "print(classification_report(y_test5, y_pred))"
   ]
  },
  {
   "cell_type": "markdown",
   "metadata": {},
   "source": [
    "#### The Random Forest model with only title works the best.\n",
    "\n",
    "I'll now save its weights as a pickle file"
   ]
  },
  {
   "cell_type": "markdown",
   "metadata": {},
   "source": [
    "## Saving Model Weights using pickle"
   ]
  },
  {
   "cell_type": "code",
   "execution_count": 46,
   "metadata": {},
   "outputs": [],
   "source": [
    "pickle.dump(trf1, open(\"../model/tmodel.pkl\",\"wb\"))"
   ]
  }
 ],
 "metadata": {
  "kernelspec": {
   "display_name": "Python 3",
   "language": "python",
   "name": "python3"
  },
  "language_info": {
   "codemirror_mode": {
    "name": "ipython",
    "version": 3
   },
   "file_extension": ".py",
   "mimetype": "text/x-python",
   "name": "python",
   "nbconvert_exporter": "python",
   "pygments_lexer": "ipython3",
   "version": "3.7.3"
  }
 },
 "nbformat": 4,
 "nbformat_minor": 2
}
